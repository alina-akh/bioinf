{
 "cells": [
  {
   "cell_type": "code",
   "execution_count": 31,
   "id": "3c9993ff-cc4b-4d6b-bcdc-59f56e33bc45",
   "metadata": {},
   "outputs": [],
   "source": [
    "import numpy as np\n",
    "import matplotlib.pyplot as plt\n",
    "import pandas as pd"
   ]
  },
  {
   "cell_type": "code",
   "execution_count": 35,
   "id": "3dfaab22-1c91-4f30-80f3-bbc5d50bd58d",
   "metadata": {},
   "outputs": [
    {
     "name": "stdout",
     "output_type": "stream",
     "text": [
      "Матрица значений:\n",
      "        A   T  G   T   C   A   C\n",
      "    0  -3  -6 -9 -12 -15 -18 -21\n",
      "A  -3   1  -2 -5  -8 -11 -14 -17\n",
      "T  -6  -2   2 -1  -4  -7 -10 -13\n",
      "C  -9  -5  -1  0  -3  -3  -6  -9\n",
      "T -12  -8  -4 -3   1  -2  -5  -8\n",
      "C -15 -11  -7 -6  -2   2  -1  -4\n",
      "C -18 -14 -10 -9  -5  -1   0   0\n"
     ]
    }
   ],
   "source": [
    "def needleman_wunsch(seq1, seq2, match=1, mismatch=-1, gap=-2):\n",
    "    n = len(seq1)\n",
    "    m = len(seq2)\n",
    "    \n",
    "    dp = [[0] * (m + 1) for _ in range(n + 1)]\n",
    "    \n",
    "    for i in range(n + 1):\n",
    "        dp[i][0] = gap * i\n",
    "    for j in range(m + 1):\n",
    "        dp[0][j] = gap * j\n",
    "    \n",
    "    for i in range(1, n + 1):\n",
    "        for j in range(1, m + 1):\n",
    "            score = match if seq1[i - 1] == seq2[j - 1] else mismatch\n",
    "            \n",
    "            choices = [\n",
    "                (dp[i - 1][j - 1] + score),  \n",
    "                (dp[i - 1][j] + gap),        \n",
    "                (dp[i][j - 1] + gap)         \n",
    "            ]\n",
    "            dp[i][j] = max(choices)\n",
    "\n",
    "    df = pd.DataFrame(dp, index=[''] + list(seq1), columns=[''] + list(seq2))\n",
    "    \n",
    "    return df\n",
    "\n",
    "# Пример использования\n",
    "seq1 = 'ATCTCC'\n",
    "seq2 = 'ATGTCAC'\n",
    "matrix = needleman_wunsch(seq1, seq2, match=1, mismatch=-2, gap=-3)\n",
    "\n",
    "# Вывод DataFrame значений\n",
    "print(\"Матрица значений:\")\n",
    "print(matrix)\n"
   ]
  },
  {
   "cell_type": "code",
   "execution_count": null,
   "id": "9f2bc261-3d7f-43c9-b6c9-04db6cac636f",
   "metadata": {},
   "outputs": [],
   "source": []
  }
 ],
 "metadata": {
  "kernelspec": {
   "display_name": "Python [conda env:.conda-bioinfo]",
   "language": "python",
   "name": "conda-env-.conda-bioinfo-py"
  },
  "language_info": {
   "codemirror_mode": {
    "name": "ipython",
    "version": 3
   },
   "file_extension": ".py",
   "mimetype": "text/x-python",
   "name": "python",
   "nbconvert_exporter": "python",
   "pygments_lexer": "ipython3",
   "version": "3.12.9"
  }
 },
 "nbformat": 4,
 "nbformat_minor": 5
}
